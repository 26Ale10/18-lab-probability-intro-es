{
 "cells": [
  {
   "cell_type": "markdown",
   "metadata": {},
   "source": [
    "# Probability"
   ]
  },
  {
   "cell_type": "markdown",
   "metadata": {},
   "source": [
    "## Reto 1\n",
    "Hay una caja con 10 bolas blancas, 12 bolas rojas y 8 bolas negras. Calcula la probabilidad de:\n",
    "* Sacar una bola blanca.\n",
    "* Sacar una bola blanca en la primera extracción y una bola negra en la segunda extracción sin reemplazar la primera.\n",
    "* Sacar una bola blanca en la primera extracción y una bola negra en la segunda extracción reemplazando la primera.\n",
    "* Sacar 3 bolas y que sean todas de diferentes colores."
   ]
  },
  {
   "cell_type": "code",
   "execution_count": 36,
   "metadata": {},
   "outputs": [],
   "source": [
    "# YOUR CODE HERE\n",
    "# sacar una bola blanca:\n",
    "def ProbBolaBlanca():\n",
    "  print(\"Vamos a calcúlar la probabilidad de sacar una bola Blanca de una caja con mas bolas:\\n\")\n",
    "  totalBlancas = int(input(\"Introduce el Nº de bolas Blancas que van dentro de la caja\"))\n",
    "  totalNegras = int(input(\"Introduce el Nº de bolas Rojas que van dentro de la caja\"))\n",
    "  totalRojas = int(input(\"Introduce el Nº de bolas Negras que van dentro de la caja\"))\n",
    "\n",
    "  totalBolas = totalBlancas + totalRojas + totalNegras\n",
    "  probBolaBlanca = (totalBlancas/totalBolas)\n",
    "  print(f\"\"\"- La probabilidad de sacar una bola blanca de una caja con {totalBlancas} Bolas Blancas, {totalNegras} Bolas Negras, {totalRojas} Bolas Rojas es de: {probBolaBlanca:.4f}\"\"\")\n",
    "  return totalBlancas,totalNegras,totalRojas,totalBolas\n",
    "\n",
    "#Sacar una bola blanca en la primera extracción y una bola negra en la segunda extracción sin reemplazar la primera.\n",
    "def ProbBolaNegra(totalBlancas,totalNegras,totalBolas):\n",
    "  probBolaNegra = (totalBlancas/totalBolas)*(totalNegras/(totalBolas-1))\n",
    "  print(f\"\"\"- La probabilidad de sacar una bola Negra inmediatamente luego de sacar una bola Blanca sin reemplazarla es de: {probBolaNegra:.4f}\"\"\")\n",
    "  return\n",
    "\n",
    "def ProbBolaNegraV2(totalNegras,totalBolas):\n",
    "  probBolaNegrav2 = (totalBlancas/totalBolas)*(totalNegras/(totalBolas))\n",
    "  print(f\"\"\"- La probabilidad de sacar una bola Negra inmediatamente luego de sacar una bola Blanca reemplazando la bola blanca es de: {probBolaNegrav2:.4f}\"\"\")\n",
    "  return\n",
    "\n",
    "\n",
    "# Sacar 3 bolas y que sean todas de diferentes colores.\n",
    "\n",
    "def Prob3Bolas(totalBlancas,totalNegras,totalRojas,totalBolas):\n",
    "  prob3Bolas = (totalBlancas/totalBolas)*(totalNegras/(totalBolas-1))*(totalRojas/(totalBolas-2))\n",
    "  print(f\"\"\"- La probabilidad de sacar 3 bolas diferentes es de: {prob3Bolas:.4f}\"\"\")\n",
    "  return"
   ]
  },
  {
   "cell_type": "code",
   "execution_count": 37,
   "metadata": {},
   "outputs": [
    {
     "name": "stdout",
     "output_type": "stream",
     "text": [
      "Vamos a calcúlar la probabilidad de sacar una bola Blanca de una caja con mas bolas:\n",
      "\n",
      "- La probabilidad de sacar una bola blanca de una caja con 10 Bolas Blancas, 12 Bolas Negras, 8 Bolas Rojas es de: 0.3333\n",
      "- La probabilidad de sacar una bola Negra inmediatamente luego de sacar una bola Blanca sin reemplazarla es de: 0.0920\n",
      "- La probabilidad de sacar una bola Negra inmediatamente luego de sacar una bola Blanca reemplazando la bola blanca es de: 0.0889\n",
      "- La probabilidad de sacar 3 bolas diferentes es de: 0.0394\n"
     ]
    }
   ],
   "source": [
    "# Llamamos a la primera función para obtener los totales\n",
    "totalBlancas,totalNegras,totalRojas,totalBolas = ProbBolaBlanca()\n",
    "\n",
    "# Calculamos la probabilidad de bola negra sin reemplazo\n",
    "ProbBolaNegra(totalBlancas,total_negras,totalBolas)\n",
    "\n",
    "# Calculamos la probabilidad de bola negra con reemplazo\n",
    "ProbBolaNegraV2(total_negras,totalBolas)\n",
    "\n",
    "# Calculamos la probabilidad de sacar 3 bolas diferentes\n",
    "Prob3Bolas(totalBlancas,totalNegras,totalRojas,totalBolas)"
   ]
  },
  {
   "cell_type": "markdown",
   "metadata": {},
   "source": [
    "## Reto 2\n",
    "\n",
    "Quieres ir de picnic el sábado. Odias la lluvia y quieres planificar tu fin de semana. Para ayudarte a tomar una decisión, recopilas los siguientes datos sobre los días lluviosos:\n",
    "\n",
    "* El 40% de todos los días están nublados.\n",
    "* Aproximadamente el 50% de los días nublados son lluviosos.\n",
    "* Aproximadamente el 20% de los días no nublados son lluviosos.\n",
    "\n",
    "¿Cuál es la probabilidad de que llueva el próximo sábado?"
   ]
  },
  {
   "cell_type": "code",
   "execution_count": null,
   "metadata": {},
   "outputs": [],
   "source": [
    "# YOUR CODE HERE"
   ]
  },
  {
   "cell_type": "markdown",
   "metadata": {},
   "source": [
    "## Reto 3\n",
    "\n",
    "A y B son eventos de una probabilidad tal que \\(P(A) = 0.3\\), \\(P(B) = 0.6\\) y \\(P(A \\cap B) = 0.1\\)\n",
    "\n",
    "¿Cuáles de las siguientes afirmaciones son verdaderas?\n",
    "**SUGERENCIA: dibuja un gran diagrama de Venn a tu lado**\n",
    "* \\(P(\\overline{A}) = 0.7\\)\n",
    "* \\(P(A \\cup B) = 0.6\\)\n",
    "* \\(P(A \\cap \\overline{B}) = 0.2\\)\n",
    "* \\(P(A \\cup \\overline{A}) = 1\\)  \n",
    "* \\(P(A \\cap (B \\cup \\overline{B})) = 0.4\\)\n",
    "* \\(P(\\overline{A} \\cap \\overline{B}) = 0.3\\)\n",
    "* \\(P(\\overline{A \\cap B}) = 0.9\\)"
   ]
  },
  {
   "cell_type": "code",
   "execution_count": null,
   "metadata": {},
   "outputs": [],
   "source": [
    "# YOUR CODE HERE"
   ]
  },
  {
   "cell_type": "markdown",
   "metadata": {},
   "source": [
    "## Reto 4\n",
    "\n",
    "* Si alguien viaja a China, la probabilidad de contraer Covid es del 1%\n",
    "* Si alguien viaja a Italia, la probabilidad de contraer Covid es del 20%\n",
    "\n",
    "Lanzo un dado con números 1, 2, 3, 4, 5, 6:\n",
    "* Si sale 1: Vuelo a Italia\n",
    "* Si no sale 1: Vuelo a China\n",
    "\n",
    "Durante mi viaje, contraje Covid. ¿Cuál es la probabilidad de que haya volado a China?"
   ]
  },
  {
   "cell_type": "code",
   "execution_count": null,
   "metadata": {},
   "outputs": [],
   "source": [
    "# YOUR CODE HERE"
   ]
  },
  {
   "cell_type": "markdown",
   "metadata": {},
   "source": [
    "## BONUS\n",
    "\n",
    "Lanzas 2 dados. ¿Cuál es la probabilidad de que la suma de los números sea 7? ¿Y 8? ¿Y 9? Luego simula 10000 veces y dibuja un gráfico de conteo.\n",
    "\n",
    "tu explicación aquí"
   ]
  },
  {
   "cell_type": "code",
   "execution_count": null,
   "metadata": {},
   "outputs": [],
   "source": [
    "# YOUR CODE HERE"
   ]
  }
 ],
 "metadata": {
  "kernelspec": {
   "display_name": "Python 3 (ipykernel)",
   "language": "python",
   "name": "python3"
  },
  "language_info": {
   "codemirror_mode": {
    "name": "ipython",
    "version": 3
   },
   "file_extension": ".py",
   "mimetype": "text/x-python",
   "name": "python",
   "nbconvert_exporter": "python",
   "pygments_lexer": "ipython3",
   "version": "3.12.2"
  },
  "toc": {
   "base_numbering": 1,
   "nav_menu": {},
   "number_sections": false,
   "sideBar": true,
   "skip_h1_title": false,
   "title_cell": "Table of Contents",
   "title_sidebar": "Contents",
   "toc_cell": false,
   "toc_position": {
    "height": "calc(100% - 180px)",
    "left": "10px",
    "top": "150px",
    "width": "296.475px"
   },
   "toc_section_display": true,
   "toc_window_display": false
  },
  "varInspector": {
   "cols": {
    "lenName": 16,
    "lenType": 16,
    "lenVar": 40
   },
   "kernels_config": {
    "python": {
     "delete_cmd_postfix": "",
     "delete_cmd_prefix": "del ",
     "library": "var_list.py",
     "varRefreshCmd": "print(var_dic_list())"
    },
    "r": {
     "delete_cmd_postfix": ") ",
     "delete_cmd_prefix": "rm(",
     "library": "var_list.r",
     "varRefreshCmd": "cat(var_dic_list()) "
    }
   },
   "types_to_exclude": [
    "module",
    "function",
    "builtin_function_or_method",
    "instance",
    "_Feature"
   ],
   "window_display": false
  }
 },
 "nbformat": 4,
 "nbformat_minor": 2
}
